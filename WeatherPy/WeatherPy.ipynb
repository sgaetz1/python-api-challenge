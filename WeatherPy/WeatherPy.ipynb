{
 "cells": [
  {
   "cell_type": "code",
   "execution_count": 1,
   "metadata": {},
   "outputs": [],
   "source": [
    "# Dependencies and Setup\n",
    "import matplotlib.pyplot as plt\n",
    "import pandas as pd\n",
    "import numpy as np\n",
    "import requests\n",
    "import time\n",
    "from scipy.stats import linregress\n",
    "\n",
    "# Import API key\n",
    "from config import weather_api_key\n",
    "\n",
    "# Incorporated citipy to determine city based on latitude and longitude\n",
    "from citipy import citipy\n",
    "\n",
    "# Output File (CSV)\n",
    "output_data_file = \"../output_data/cities.csv\"\n",
    "\n",
    "# Range of latitudes and longitudes\n",
    "lat_range = (-90, 90)\n",
    "lng_range = (-180, 180)"
   ]
  },
  {
   "cell_type": "code",
   "execution_count": 2,
   "metadata": {},
   "outputs": [
    {
     "name": "stdout",
     "output_type": "stream",
     "text": [
      "15\n"
     ]
    }
   ],
   "source": [
    "# List for holding lat_lngs and cities\n",
    "lat_lngs = []\n",
    "cities = []\n",
    "\n",
    "# Create a set of random lat and lng combinations\n",
    "lats = np.random.uniform(lat_range[0], lat_range[1], size=15) #size=1500\n",
    "lngs = np.random.uniform(lng_range[0], lng_range[1], size=15) #size=1500\n",
    "lat_lngs = zip(lats, lngs)\n",
    "\n",
    "# Identify nearest city for each lat, lng combination\n",
    "for lat_lng in lat_lngs:\n",
    "    city = citipy.nearest_city(lat_lng[0], lat_lng[1]).city_name\n",
    "    \n",
    "    # If the city is unique, then add it to a our cities list\n",
    "    if city not in cities:\n",
    "        cities.append(city)\n",
    "\n",
    "# Print the city count to confirm sufficient count\n",
    "print(len(cities))"
   ]
  },
  {
   "cell_type": "code",
   "execution_count": 3,
   "metadata": {},
   "outputs": [],
   "source": [
    "#create data frame and add empty columns\n",
    "weather_df = pd.DataFrame({'City':cities})\n",
    "weather_df['Lat'] = \"\"\n",
    "weather_df['Lng'] = \"\"\n",
    "weather_df['MaxTemp'] = \"\"\n",
    "weather_df['Humidity'] = \"\"\n",
    "weather_df['Cloudiness'] = \"\"\n",
    "weather_df['WindSpeed'] = \"\"\n",
    "weather_df['Country'] = \"\"\n",
    "weather_df['Date'] = \"\"\n"
   ]
  },
  {
   "cell_type": "code",
   "execution_count": 4,
   "metadata": {},
   "outputs": [
    {
     "name": "stdout",
     "output_type": "stream",
     "text": [
      "Beginning data retrieval\n",
      "-------------------------\n",
      "Processing record 0|busselton\n",
      "Processing record 1|castro\n",
      "Processing record 2|butaritari\n",
      "Processing record 3|skjervoy\n",
      "Processing record 4|berlevag\n",
      "Processing record 5|marand\n",
      "Processing record 6|albany\n",
      "Processing record 7|krasnovishersk\n",
      "Processing record 8|thunder bay\n",
      "Processing record 9|balikpapan\n",
      "Processing record 10|jamestown\n",
      "Processing record 11|kapaa\n",
      "Processing record 12|khatanga\n",
      "Processing record 13|namatanai\n",
      "Processing record 14|punta arenas\n"
     ]
    },
    {
     "data": {
      "text/html": [
       "<div>\n",
       "<style scoped>\n",
       "    .dataframe tbody tr th:only-of-type {\n",
       "        vertical-align: middle;\n",
       "    }\n",
       "\n",
       "    .dataframe tbody tr th {\n",
       "        vertical-align: top;\n",
       "    }\n",
       "\n",
       "    .dataframe thead th {\n",
       "        text-align: right;\n",
       "    }\n",
       "</style>\n",
       "<table border=\"1\" class=\"dataframe\">\n",
       "  <thead>\n",
       "    <tr style=\"text-align: right;\">\n",
       "      <th></th>\n",
       "      <th>City</th>\n",
       "      <th>Lat</th>\n",
       "      <th>Lng</th>\n",
       "      <th>MaxTemp</th>\n",
       "      <th>Humidity</th>\n",
       "      <th>Cloudiness</th>\n",
       "      <th>WindSpeed</th>\n",
       "      <th>Country</th>\n",
       "      <th>Date</th>\n",
       "    </tr>\n",
       "  </thead>\n",
       "  <tbody>\n",
       "    <tr>\n",
       "      <th>0</th>\n",
       "      <td>busselton</td>\n",
       "      <td>-33.65</td>\n",
       "      <td>115.333</td>\n",
       "      <td>57</td>\n",
       "      <td>96</td>\n",
       "      <td>7</td>\n",
       "      <td>5.64</td>\n",
       "      <td>AU</td>\n",
       "      <td>1612800652</td>\n",
       "    </tr>\n",
       "    <tr>\n",
       "      <th>1</th>\n",
       "      <td>castro</td>\n",
       "      <td>-24.7911</td>\n",
       "      <td>-50.0119</td>\n",
       "      <td>74.95</td>\n",
       "      <td>51</td>\n",
       "      <td>0</td>\n",
       "      <td>4.65</td>\n",
       "      <td>BR</td>\n",
       "      <td>1612800525</td>\n",
       "    </tr>\n",
       "    <tr>\n",
       "      <th>2</th>\n",
       "      <td>butaritari</td>\n",
       "      <td>3.0707</td>\n",
       "      <td>172.79</td>\n",
       "      <td>81.43</td>\n",
       "      <td>81</td>\n",
       "      <td>97</td>\n",
       "      <td>18.59</td>\n",
       "      <td>KI</td>\n",
       "      <td>1612800665</td>\n",
       "    </tr>\n",
       "    <tr>\n",
       "      <th>3</th>\n",
       "      <td>skjervoy</td>\n",
       "      <td>70.0311</td>\n",
       "      <td>20.9714</td>\n",
       "      <td>24.8</td>\n",
       "      <td>58</td>\n",
       "      <td>40</td>\n",
       "      <td>6.91</td>\n",
       "      <td>NO</td>\n",
       "      <td>1612801219</td>\n",
       "    </tr>\n",
       "    <tr>\n",
       "      <th>4</th>\n",
       "      <td>berlevag</td>\n",
       "      <td>70.8578</td>\n",
       "      <td>29.0864</td>\n",
       "      <td>21.2</td>\n",
       "      <td>79</td>\n",
       "      <td>40</td>\n",
       "      <td>12.66</td>\n",
       "      <td>NO</td>\n",
       "      <td>1612800661</td>\n",
       "    </tr>\n",
       "    <tr>\n",
       "      <th>5</th>\n",
       "      <td>marand</td>\n",
       "      <td>38.4329</td>\n",
       "      <td>45.7749</td>\n",
       "      <td>44.6</td>\n",
       "      <td>81</td>\n",
       "      <td>8</td>\n",
       "      <td>3.24</td>\n",
       "      <td>IR</td>\n",
       "      <td>1612801222</td>\n",
       "    </tr>\n",
       "    <tr>\n",
       "      <th>6</th>\n",
       "      <td>albany</td>\n",
       "      <td>42.6001</td>\n",
       "      <td>-73.9662</td>\n",
       "      <td>21.99</td>\n",
       "      <td>46</td>\n",
       "      <td>94</td>\n",
       "      <td>3</td>\n",
       "      <td>US</td>\n",
       "      <td>1612800385</td>\n",
       "    </tr>\n",
       "    <tr>\n",
       "      <th>7</th>\n",
       "      <td>krasnovishersk</td>\n",
       "      <td>60.4078</td>\n",
       "      <td>57.082</td>\n",
       "      <td>-14.87</td>\n",
       "      <td>87</td>\n",
       "      <td>100</td>\n",
       "      <td>6.31</td>\n",
       "      <td>RU</td>\n",
       "      <td>1612801225</td>\n",
       "    </tr>\n",
       "    <tr>\n",
       "      <th>8</th>\n",
       "      <td>thunder bay</td>\n",
       "      <td>48.4001</td>\n",
       "      <td>-89.3168</td>\n",
       "      <td>-11.99</td>\n",
       "      <td>57</td>\n",
       "      <td>1</td>\n",
       "      <td>9.22</td>\n",
       "      <td>CA</td>\n",
       "      <td>1612800631</td>\n",
       "    </tr>\n",
       "    <tr>\n",
       "      <th>9</th>\n",
       "      <td>balikpapan</td>\n",
       "      <td>-1.2675</td>\n",
       "      <td>116.829</td>\n",
       "      <td>76.77</td>\n",
       "      <td>88</td>\n",
       "      <td>95</td>\n",
       "      <td>1.77</td>\n",
       "      <td>ID</td>\n",
       "      <td>1612801228</td>\n",
       "    </tr>\n",
       "    <tr>\n",
       "      <th>10</th>\n",
       "      <td>jamestown</td>\n",
       "      <td>42.097</td>\n",
       "      <td>-79.2353</td>\n",
       "      <td>19</td>\n",
       "      <td>67</td>\n",
       "      <td>90</td>\n",
       "      <td>5.75</td>\n",
       "      <td>US</td>\n",
       "      <td>1612800519</td>\n",
       "    </tr>\n",
       "    <tr>\n",
       "      <th>11</th>\n",
       "      <td>kapaa</td>\n",
       "      <td>22.0752</td>\n",
       "      <td>-159.319</td>\n",
       "      <td>62.6</td>\n",
       "      <td>82</td>\n",
       "      <td>90</td>\n",
       "      <td>9.22</td>\n",
       "      <td>US</td>\n",
       "      <td>1612800672</td>\n",
       "    </tr>\n",
       "    <tr>\n",
       "      <th>12</th>\n",
       "      <td>khatanga</td>\n",
       "      <td>71.9667</td>\n",
       "      <td>102.5</td>\n",
       "      <td>-19.8</td>\n",
       "      <td>82</td>\n",
       "      <td>0</td>\n",
       "      <td>12.44</td>\n",
       "      <td>RU</td>\n",
       "      <td>1612801232</td>\n",
       "    </tr>\n",
       "    <tr>\n",
       "      <th>13</th>\n",
       "      <td>namatanai</td>\n",
       "      <td>-3.6667</td>\n",
       "      <td>152.433</td>\n",
       "      <td>80.78</td>\n",
       "      <td>81</td>\n",
       "      <td>100</td>\n",
       "      <td>6.62</td>\n",
       "      <td>PG</td>\n",
       "      <td>1612801233</td>\n",
       "    </tr>\n",
       "    <tr>\n",
       "      <th>14</th>\n",
       "      <td>punta arenas</td>\n",
       "      <td>-53.15</td>\n",
       "      <td>-70.9167</td>\n",
       "      <td>71.6</td>\n",
       "      <td>40</td>\n",
       "      <td>0</td>\n",
       "      <td>23.02</td>\n",
       "      <td>CL</td>\n",
       "      <td>1612800652</td>\n",
       "    </tr>\n",
       "  </tbody>\n",
       "</table>\n",
       "</div>"
      ],
      "text/plain": [
       "              City      Lat      Lng MaxTemp Humidity Cloudiness WindSpeed  \\\n",
       "0        busselton   -33.65  115.333      57       96          7      5.64   \n",
       "1           castro -24.7911 -50.0119   74.95       51          0      4.65   \n",
       "2       butaritari   3.0707   172.79   81.43       81         97     18.59   \n",
       "3         skjervoy  70.0311  20.9714    24.8       58         40      6.91   \n",
       "4         berlevag  70.8578  29.0864    21.2       79         40     12.66   \n",
       "5           marand  38.4329  45.7749    44.6       81          8      3.24   \n",
       "6           albany  42.6001 -73.9662   21.99       46         94         3   \n",
       "7   krasnovishersk  60.4078   57.082  -14.87       87        100      6.31   \n",
       "8      thunder bay  48.4001 -89.3168  -11.99       57          1      9.22   \n",
       "9       balikpapan  -1.2675  116.829   76.77       88         95      1.77   \n",
       "10       jamestown   42.097 -79.2353      19       67         90      5.75   \n",
       "11           kapaa  22.0752 -159.319    62.6       82         90      9.22   \n",
       "12        khatanga  71.9667    102.5   -19.8       82          0     12.44   \n",
       "13       namatanai  -3.6667  152.433   80.78       81        100      6.62   \n",
       "14    punta arenas   -53.15 -70.9167    71.6       40          0     23.02   \n",
       "\n",
       "   Country        Date  \n",
       "0       AU  1612800652  \n",
       "1       BR  1612800525  \n",
       "2       KI  1612800665  \n",
       "3       NO  1612801219  \n",
       "4       NO  1612800661  \n",
       "5       IR  1612801222  \n",
       "6       US  1612800385  \n",
       "7       RU  1612801225  \n",
       "8       CA  1612800631  \n",
       "9       ID  1612801228  \n",
       "10      US  1612800519  \n",
       "11      US  1612800672  \n",
       "12      RU  1612801232  \n",
       "13      PG  1612801233  \n",
       "14      CL  1612800652  "
      ]
     },
     "execution_count": 4,
     "metadata": {},
     "output_type": "execute_result"
    }
   ],
   "source": [
    "# Set units to imperial\n",
    "units = 'imperial'\n",
    "\n",
    "# Iterate over the rows in the df and fill the columns\n",
    "print(\"Beginning data retrieval\")\n",
    "print(\"-------------------------\")\n",
    "for index, row in weather_df.iterrows():\n",
    "    base_url = \"https://api.openweathermap.org/data/2.5/weather?\" \n",
    "\n",
    "    city = row['City']\n",
    "    \n",
    "    target_url = f\"{base_url}q={city}&appid={weather_api_key}&units={units}\"\n",
    "    \n",
    "    response = requests.get(target_url).json() \n",
    "\n",
    "    time.sleep(1)\n",
    "    \n",
    "    try:\n",
    "        print(f\"Processing record {index}|{city}\")\n",
    "        \n",
    "        weather_df.loc[index,'Lat'] = response['coord']['lat']\n",
    "        weather_df.loc[index,'Lng'] = response['coord']['lon']\n",
    "        weather_df.loc[index,'MaxTemp'] = response['main']['temp_max']\n",
    "        weather_df.loc[index,'Humidity'] = response['main']['humidity']\n",
    "        weather_df.loc[index,'Cloudiness'] = response['clouds']['all']\n",
    "        weather_df.loc[index,'WindSpeed'] = response['wind']['speed']\n",
    "        weather_df.loc[index,'Country'] = response['sys']['country']\n",
    "        weather_df.loc[index,'Date'] = response['dt']\n",
    "        \n",
    "    except:\n",
    "    \n",
    "        print(f\"{city} not found. Skipping...\")\n",
    "    \n",
    "weather_df"
   ]
  },
  {
   "cell_type": "code",
   "execution_count": 5,
   "metadata": {},
   "outputs": [],
   "source": [
    "weather_df = weather_df.dropna()"
   ]
  },
  {
   "cell_type": "code",
   "execution_count": 6,
   "metadata": {},
   "outputs": [
    {
     "data": {
      "text/html": [
       "<div>\n",
       "<style scoped>\n",
       "    .dataframe tbody tr th:only-of-type {\n",
       "        vertical-align: middle;\n",
       "    }\n",
       "\n",
       "    .dataframe tbody tr th {\n",
       "        vertical-align: top;\n",
       "    }\n",
       "\n",
       "    .dataframe thead th {\n",
       "        text-align: right;\n",
       "    }\n",
       "</style>\n",
       "<table border=\"1\" class=\"dataframe\">\n",
       "  <thead>\n",
       "    <tr style=\"text-align: right;\">\n",
       "      <th></th>\n",
       "      <th>City</th>\n",
       "      <th>Lat</th>\n",
       "      <th>Lng</th>\n",
       "      <th>MaxTemp</th>\n",
       "      <th>Humidity</th>\n",
       "      <th>Cloudiness</th>\n",
       "      <th>WindSpeed</th>\n",
       "      <th>Country</th>\n",
       "      <th>Date</th>\n",
       "    </tr>\n",
       "  </thead>\n",
       "  <tbody>\n",
       "    <tr>\n",
       "      <th>0</th>\n",
       "      <td>busselton</td>\n",
       "      <td>-33.65</td>\n",
       "      <td>115.333</td>\n",
       "      <td>57</td>\n",
       "      <td>96</td>\n",
       "      <td>7</td>\n",
       "      <td>5.64</td>\n",
       "      <td>AU</td>\n",
       "      <td>1612800652</td>\n",
       "    </tr>\n",
       "    <tr>\n",
       "      <th>1</th>\n",
       "      <td>castro</td>\n",
       "      <td>-24.7911</td>\n",
       "      <td>-50.0119</td>\n",
       "      <td>74.95</td>\n",
       "      <td>51</td>\n",
       "      <td>0</td>\n",
       "      <td>4.65</td>\n",
       "      <td>BR</td>\n",
       "      <td>1612800525</td>\n",
       "    </tr>\n",
       "    <tr>\n",
       "      <th>2</th>\n",
       "      <td>butaritari</td>\n",
       "      <td>3.0707</td>\n",
       "      <td>172.79</td>\n",
       "      <td>81.43</td>\n",
       "      <td>81</td>\n",
       "      <td>97</td>\n",
       "      <td>18.59</td>\n",
       "      <td>KI</td>\n",
       "      <td>1612800665</td>\n",
       "    </tr>\n",
       "    <tr>\n",
       "      <th>3</th>\n",
       "      <td>skjervoy</td>\n",
       "      <td>70.0311</td>\n",
       "      <td>20.9714</td>\n",
       "      <td>24.8</td>\n",
       "      <td>58</td>\n",
       "      <td>40</td>\n",
       "      <td>6.91</td>\n",
       "      <td>NO</td>\n",
       "      <td>1612801219</td>\n",
       "    </tr>\n",
       "    <tr>\n",
       "      <th>4</th>\n",
       "      <td>berlevag</td>\n",
       "      <td>70.8578</td>\n",
       "      <td>29.0864</td>\n",
       "      <td>21.2</td>\n",
       "      <td>79</td>\n",
       "      <td>40</td>\n",
       "      <td>12.66</td>\n",
       "      <td>NO</td>\n",
       "      <td>1612800661</td>\n",
       "    </tr>\n",
       "    <tr>\n",
       "      <th>5</th>\n",
       "      <td>marand</td>\n",
       "      <td>38.4329</td>\n",
       "      <td>45.7749</td>\n",
       "      <td>44.6</td>\n",
       "      <td>81</td>\n",
       "      <td>8</td>\n",
       "      <td>3.24</td>\n",
       "      <td>IR</td>\n",
       "      <td>1612801222</td>\n",
       "    </tr>\n",
       "    <tr>\n",
       "      <th>6</th>\n",
       "      <td>albany</td>\n",
       "      <td>42.6001</td>\n",
       "      <td>-73.9662</td>\n",
       "      <td>21.99</td>\n",
       "      <td>46</td>\n",
       "      <td>94</td>\n",
       "      <td>3</td>\n",
       "      <td>US</td>\n",
       "      <td>1612800385</td>\n",
       "    </tr>\n",
       "    <tr>\n",
       "      <th>7</th>\n",
       "      <td>krasnovishersk</td>\n",
       "      <td>60.4078</td>\n",
       "      <td>57.082</td>\n",
       "      <td>-14.87</td>\n",
       "      <td>87</td>\n",
       "      <td>100</td>\n",
       "      <td>6.31</td>\n",
       "      <td>RU</td>\n",
       "      <td>1612801225</td>\n",
       "    </tr>\n",
       "    <tr>\n",
       "      <th>8</th>\n",
       "      <td>thunder bay</td>\n",
       "      <td>48.4001</td>\n",
       "      <td>-89.3168</td>\n",
       "      <td>-11.99</td>\n",
       "      <td>57</td>\n",
       "      <td>1</td>\n",
       "      <td>9.22</td>\n",
       "      <td>CA</td>\n",
       "      <td>1612800631</td>\n",
       "    </tr>\n",
       "    <tr>\n",
       "      <th>9</th>\n",
       "      <td>balikpapan</td>\n",
       "      <td>-1.2675</td>\n",
       "      <td>116.829</td>\n",
       "      <td>76.77</td>\n",
       "      <td>88</td>\n",
       "      <td>95</td>\n",
       "      <td>1.77</td>\n",
       "      <td>ID</td>\n",
       "      <td>1612801228</td>\n",
       "    </tr>\n",
       "    <tr>\n",
       "      <th>10</th>\n",
       "      <td>jamestown</td>\n",
       "      <td>42.097</td>\n",
       "      <td>-79.2353</td>\n",
       "      <td>19</td>\n",
       "      <td>67</td>\n",
       "      <td>90</td>\n",
       "      <td>5.75</td>\n",
       "      <td>US</td>\n",
       "      <td>1612800519</td>\n",
       "    </tr>\n",
       "    <tr>\n",
       "      <th>11</th>\n",
       "      <td>kapaa</td>\n",
       "      <td>22.0752</td>\n",
       "      <td>-159.319</td>\n",
       "      <td>62.6</td>\n",
       "      <td>82</td>\n",
       "      <td>90</td>\n",
       "      <td>9.22</td>\n",
       "      <td>US</td>\n",
       "      <td>1612800672</td>\n",
       "    </tr>\n",
       "    <tr>\n",
       "      <th>12</th>\n",
       "      <td>khatanga</td>\n",
       "      <td>71.9667</td>\n",
       "      <td>102.5</td>\n",
       "      <td>-19.8</td>\n",
       "      <td>82</td>\n",
       "      <td>0</td>\n",
       "      <td>12.44</td>\n",
       "      <td>RU</td>\n",
       "      <td>1612801232</td>\n",
       "    </tr>\n",
       "    <tr>\n",
       "      <th>13</th>\n",
       "      <td>namatanai</td>\n",
       "      <td>-3.6667</td>\n",
       "      <td>152.433</td>\n",
       "      <td>80.78</td>\n",
       "      <td>81</td>\n",
       "      <td>100</td>\n",
       "      <td>6.62</td>\n",
       "      <td>PG</td>\n",
       "      <td>1612801233</td>\n",
       "    </tr>\n",
       "    <tr>\n",
       "      <th>14</th>\n",
       "      <td>punta arenas</td>\n",
       "      <td>-53.15</td>\n",
       "      <td>-70.9167</td>\n",
       "      <td>71.6</td>\n",
       "      <td>40</td>\n",
       "      <td>0</td>\n",
       "      <td>23.02</td>\n",
       "      <td>CL</td>\n",
       "      <td>1612800652</td>\n",
       "    </tr>\n",
       "  </tbody>\n",
       "</table>\n",
       "</div>"
      ],
      "text/plain": [
       "              City      Lat      Lng MaxTemp Humidity Cloudiness WindSpeed  \\\n",
       "0        busselton   -33.65  115.333      57       96          7      5.64   \n",
       "1           castro -24.7911 -50.0119   74.95       51          0      4.65   \n",
       "2       butaritari   3.0707   172.79   81.43       81         97     18.59   \n",
       "3         skjervoy  70.0311  20.9714    24.8       58         40      6.91   \n",
       "4         berlevag  70.8578  29.0864    21.2       79         40     12.66   \n",
       "5           marand  38.4329  45.7749    44.6       81          8      3.24   \n",
       "6           albany  42.6001 -73.9662   21.99       46         94         3   \n",
       "7   krasnovishersk  60.4078   57.082  -14.87       87        100      6.31   \n",
       "8      thunder bay  48.4001 -89.3168  -11.99       57          1      9.22   \n",
       "9       balikpapan  -1.2675  116.829   76.77       88         95      1.77   \n",
       "10       jamestown   42.097 -79.2353      19       67         90      5.75   \n",
       "11           kapaa  22.0752 -159.319    62.6       82         90      9.22   \n",
       "12        khatanga  71.9667    102.5   -19.8       82          0     12.44   \n",
       "13       namatanai  -3.6667  152.433   80.78       81        100      6.62   \n",
       "14    punta arenas   -53.15 -70.9167    71.6       40          0     23.02   \n",
       "\n",
       "   Country        Date  \n",
       "0       AU  1612800652  \n",
       "1       BR  1612800525  \n",
       "2       KI  1612800665  \n",
       "3       NO  1612801219  \n",
       "4       NO  1612800661  \n",
       "5       IR  1612801222  \n",
       "6       US  1612800385  \n",
       "7       RU  1612801225  \n",
       "8       CA  1612800631  \n",
       "9       ID  1612801228  \n",
       "10      US  1612800519  \n",
       "11      US  1612800672  \n",
       "12      RU  1612801232  \n",
       "13      PG  1612801233  \n",
       "14      CL  1612800652  "
      ]
     },
     "execution_count": 6,
     "metadata": {},
     "output_type": "execute_result"
    }
   ],
   "source": [
    "# Save DataFrame to csv file\n",
    "weather_df.to_csv(output_data_file)\n",
    "\n",
    "# Display DataFrame\n",
    "weather_df"
   ]
  },
  {
   "cell_type": "code",
   "execution_count": 7,
   "metadata": {},
   "outputs": [],
   "source": [
    "# Convert to floats\n",
    "weather_df.loc[:,\"Lat\"] = weather_df[\"Lat\"].astype('float')\n",
    "weather_df.loc[:,\"Lng\"] = weather_df[\"Lng\"].astype('float')\n",
    "weather_df.loc[:,\"MaxTemp\"] = weather_df[\"MaxTemp\"].astype('float')\n",
    "weather_df.loc[:,\"Humidity\"] = weather_df[\"Humidity\"].astype('float')\n",
    "weather_df.loc[:,\"Cloudiness\"] = weather_df[\"Cloudiness\"].astype('float')\n",
    "weather_df.loc[:,\"WindSpeed\"] = weather_df[\"WindSpeed\"].astype('float')\n",
    "weather_df.loc[:,\"Date\"] = weather_df[\"Date\"].astype('float')\n"
   ]
  },
  {
   "cell_type": "code",
   "execution_count": null,
   "metadata": {},
   "outputs": [],
   "source": [
    "# Remove cities where humidity is more than 100%\n",
    "weather_df = weather_df.loc[weather_df['Humidity'] <= 100]"
   ]
  },
  {
   "cell_type": "code",
   "execution_count": 8,
   "metadata": {},
   "outputs": [
    {
     "data": {
      "text/html": [
       "<div>\n",
       "<style scoped>\n",
       "    .dataframe tbody tr th:only-of-type {\n",
       "        vertical-align: middle;\n",
       "    }\n",
       "\n",
       "    .dataframe tbody tr th {\n",
       "        vertical-align: top;\n",
       "    }\n",
       "\n",
       "    .dataframe thead th {\n",
       "        text-align: right;\n",
       "    }\n",
       "</style>\n",
       "<table border=\"1\" class=\"dataframe\">\n",
       "  <thead>\n",
       "    <tr style=\"text-align: right;\">\n",
       "      <th></th>\n",
       "      <th>Lat</th>\n",
       "      <th>Lng</th>\n",
       "      <th>MaxTemp</th>\n",
       "      <th>Humidity</th>\n",
       "      <th>Cloudiness</th>\n",
       "      <th>WindSpeed</th>\n",
       "      <th>Date</th>\n",
       "    </tr>\n",
       "  </thead>\n",
       "  <tbody>\n",
       "    <tr>\n",
       "      <th>count</th>\n",
       "      <td>15.000000</td>\n",
       "      <td>15.000000</td>\n",
       "      <td>15.000000</td>\n",
       "      <td>15.000000</td>\n",
       "      <td>15.000000</td>\n",
       "      <td>15.000000</td>\n",
       "      <td>1.500000e+01</td>\n",
       "    </tr>\n",
       "    <tr>\n",
       "      <th>mean</th>\n",
       "      <td>23.560940</td>\n",
       "      <td>19.335633</td>\n",
       "      <td>39.337333</td>\n",
       "      <td>71.733333</td>\n",
       "      <td>50.800000</td>\n",
       "      <td>8.602667</td>\n",
       "      <td>1.612801e+09</td>\n",
       "    </tr>\n",
       "    <tr>\n",
       "      <th>std</th>\n",
       "      <td>40.458925</td>\n",
       "      <td>101.496138</td>\n",
       "      <td>36.258436</td>\n",
       "      <td>17.185819</td>\n",
       "      <td>44.780736</td>\n",
       "      <td>5.921993</td>\n",
       "      <td>3.284184e+02</td>\n",
       "    </tr>\n",
       "    <tr>\n",
       "      <th>min</th>\n",
       "      <td>-53.150000</td>\n",
       "      <td>-159.319000</td>\n",
       "      <td>-19.800000</td>\n",
       "      <td>40.000000</td>\n",
       "      <td>0.000000</td>\n",
       "      <td>1.770000</td>\n",
       "      <td>1.612800e+09</td>\n",
       "    </tr>\n",
       "    <tr>\n",
       "      <th>25%</th>\n",
       "      <td>-2.467100</td>\n",
       "      <td>-72.441450</td>\n",
       "      <td>20.100000</td>\n",
       "      <td>57.500000</td>\n",
       "      <td>4.000000</td>\n",
       "      <td>5.145000</td>\n",
       "      <td>1.612801e+09</td>\n",
       "    </tr>\n",
       "    <tr>\n",
       "      <th>50%</th>\n",
       "      <td>38.432900</td>\n",
       "      <td>29.086400</td>\n",
       "      <td>44.600000</td>\n",
       "      <td>81.000000</td>\n",
       "      <td>40.000000</td>\n",
       "      <td>6.620000</td>\n",
       "      <td>1.612801e+09</td>\n",
       "    </tr>\n",
       "    <tr>\n",
       "      <th>75%</th>\n",
       "      <td>54.403950</td>\n",
       "      <td>108.916650</td>\n",
       "      <td>73.275000</td>\n",
       "      <td>82.000000</td>\n",
       "      <td>94.500000</td>\n",
       "      <td>10.830000</td>\n",
       "      <td>1.612801e+09</td>\n",
       "    </tr>\n",
       "    <tr>\n",
       "      <th>max</th>\n",
       "      <td>71.966700</td>\n",
       "      <td>172.790200</td>\n",
       "      <td>81.430000</td>\n",
       "      <td>96.000000</td>\n",
       "      <td>100.000000</td>\n",
       "      <td>23.020000</td>\n",
       "      <td>1.612801e+09</td>\n",
       "    </tr>\n",
       "  </tbody>\n",
       "</table>\n",
       "</div>"
      ],
      "text/plain": [
       "             Lat         Lng    MaxTemp   Humidity  Cloudiness  WindSpeed  \\\n",
       "count  15.000000   15.000000  15.000000  15.000000   15.000000  15.000000   \n",
       "mean   23.560940   19.335633  39.337333  71.733333   50.800000   8.602667   \n",
       "std    40.458925  101.496138  36.258436  17.185819   44.780736   5.921993   \n",
       "min   -53.150000 -159.319000 -19.800000  40.000000    0.000000   1.770000   \n",
       "25%    -2.467100  -72.441450  20.100000  57.500000    4.000000   5.145000   \n",
       "50%    38.432900   29.086400  44.600000  81.000000   40.000000   6.620000   \n",
       "75%    54.403950  108.916650  73.275000  82.000000   94.500000  10.830000   \n",
       "max    71.966700  172.790200  81.430000  96.000000  100.000000  23.020000   \n",
       "\n",
       "               Date  \n",
       "count  1.500000e+01  \n",
       "mean   1.612801e+09  \n",
       "std    3.284184e+02  \n",
       "min    1.612800e+09  \n",
       "25%    1.612801e+09  \n",
       "50%    1.612801e+09  \n",
       "75%    1.612801e+09  \n",
       "max    1.612801e+09  "
      ]
     },
     "execution_count": 8,
     "metadata": {},
     "output_type": "execute_result"
    }
   ],
   "source": [
    "summary_stats = weather_df[['Lat','Lng','MaxTemp','Humidity','Cloudiness','WindSpeed','Date']]\n",
    "summary_stats.describe(include='all')"
   ]
  },
  {
   "cell_type": "code",
   "execution_count": 39,
   "metadata": {},
   "outputs": [
    {
     "data": {
      "image/png": "[encoded data removed]",
      "text/plain": [
       "<Figure size 432x288 with 1 Axes>"
      ]
     },
     "metadata": {
      "needs_background": "light"
     },
     "output_type": "display_data"
    }
   ],
   "source": [
    "# Latitude vs Max Temp\n",
    "plt.scatter(weather_df['Lat'], weather_df['MaxTemp'])\n",
    "plt.xlabel('Latitude')\n",
    "plt.ylabel('Maximum Temperature (F)')\n",
    "plt.title('City Latitude vs. Maximum Temperature')\n",
    "plt.show()"
   ]
  },
  {
   "cell_type": "code",
   "execution_count": 40,
   "metadata": {},
   "outputs": [
    {
     "data": {
      "image/png": "[encoded data removed]",
      "text/plain": [
       "<Figure size 432x288 with 1 Axes>"
      ]
     },
     "metadata": {
      "needs_background": "light"
     },
     "output_type": "display_data"
    }
   ],
   "source": [
    "# Latitude vs. Humidity\n",
    "plt.scatter(weather_df['Lat'], weather_df['Humidity'])\n",
    "plt.xlabel('Latitude')\n",
    "plt.ylabel('Humidity (%)')\n",
    "plt.title('City Latitude vs. Humidity')\n",
    "plt.show()"
   ]
  },
  {
   "cell_type": "code",
   "execution_count": 41,
   "metadata": {},
   "outputs": [
    {
     "data": {
      "image/png": "[encoded data removed]",
      "text/plain": [
       "<Figure size 432x288 with 1 Axes>"
      ]
     },
     "metadata": {
      "needs_background": "light"
     },
     "output_type": "display_data"
    }
   ],
   "source": [
    "# Latitude vs. Cloudiness\n",
    "plt.scatter(weather_df['Lat'], weather_df['Cloudiness'])\n",
    "plt.xlabel('Latitude')\n",
    "plt.ylabel('Cloudiness (%)')\n",
    "plt.title('City Latitude vs. Cloudiness')\n",
    "plt.show()"
   ]
  },
  {
   "cell_type": "code",
   "execution_count": 16,
   "metadata": {},
   "outputs": [
    {
     "data": {
      "image/png": "[encoded data removed]",
      "text/plain": [
       "<Figure size 432x288 with 1 Axes>"
      ]
     },
     "metadata": {
      "needs_background": "light"
     },
     "output_type": "display_data"
    }
   ],
   "source": [
    "# Latitude vs. Wind Speed\n",
    "plt.scatter(weather_df['Lat'], weather_df['WindSpeed'])\n",
    "plt.xlabel('Latitude')\n",
    "plt.ylabel('Wind Speed (mph)')\n",
    "plt.title('City Latitude vs. Wind Speed')\n",
    "plt.show()"
   ]
  },
  {
   "cell_type": "code",
   "execution_count": 63,
   "metadata": {},
   "outputs": [
    {
     "data": {
      "text/html": [
       "<div>\n",
       "<style scoped>\n",
       "    .dataframe tbody tr th:only-of-type {\n",
       "        vertical-align: middle;\n",
       "    }\n",
       "\n",
       "    .dataframe tbody tr th {\n",
       "        vertical-align: top;\n",
       "    }\n",
       "\n",
       "    .dataframe thead th {\n",
       "        text-align: right;\n",
       "    }\n",
       "</style>\n",
       "<table border=\"1\" class=\"dataframe\">\n",
       "  <thead>\n",
       "    <tr style=\"text-align: right;\">\n",
       "      <th></th>\n",
       "      <th>City</th>\n",
       "      <th>Lat</th>\n",
       "      <th>Lng</th>\n",
       "      <th>MaxTemp</th>\n",
       "      <th>Humidity</th>\n",
       "      <th>Cloudiness</th>\n",
       "      <th>WindSpeed</th>\n",
       "      <th>Country</th>\n",
       "      <th>Date</th>\n",
       "    </tr>\n",
       "  </thead>\n",
       "  <tbody>\n",
       "    <tr>\n",
       "      <th>0</th>\n",
       "      <td>busselton</td>\n",
       "      <td>-33.6500</td>\n",
       "      <td>115.3333</td>\n",
       "      <td>57.00</td>\n",
       "      <td>96.0</td>\n",
       "      <td>7.0</td>\n",
       "      <td>5.64</td>\n",
       "      <td>AU</td>\n",
       "      <td>1.612801e+09</td>\n",
       "    </tr>\n",
       "    <tr>\n",
       "      <th>1</th>\n",
       "      <td>castro</td>\n",
       "      <td>-24.7911</td>\n",
       "      <td>-50.0119</td>\n",
       "      <td>74.95</td>\n",
       "      <td>51.0</td>\n",
       "      <td>0.0</td>\n",
       "      <td>4.65</td>\n",
       "      <td>BR</td>\n",
       "      <td>1.612801e+09</td>\n",
       "    </tr>\n",
       "    <tr>\n",
       "      <th>9</th>\n",
       "      <td>balikpapan</td>\n",
       "      <td>-1.2675</td>\n",
       "      <td>116.8289</td>\n",
       "      <td>76.77</td>\n",
       "      <td>88.0</td>\n",
       "      <td>95.0</td>\n",
       "      <td>1.77</td>\n",
       "      <td>ID</td>\n",
       "      <td>1.612801e+09</td>\n",
       "    </tr>\n",
       "    <tr>\n",
       "      <th>13</th>\n",
       "      <td>namatanai</td>\n",
       "      <td>-3.6667</td>\n",
       "      <td>152.4333</td>\n",
       "      <td>80.78</td>\n",
       "      <td>81.0</td>\n",
       "      <td>100.0</td>\n",
       "      <td>6.62</td>\n",
       "      <td>PG</td>\n",
       "      <td>1.612801e+09</td>\n",
       "    </tr>\n",
       "    <tr>\n",
       "      <th>14</th>\n",
       "      <td>punta arenas</td>\n",
       "      <td>-53.1500</td>\n",
       "      <td>-70.9167</td>\n",
       "      <td>71.60</td>\n",
       "      <td>40.0</td>\n",
       "      <td>0.0</td>\n",
       "      <td>23.02</td>\n",
       "      <td>CL</td>\n",
       "      <td>1.612801e+09</td>\n",
       "    </tr>\n",
       "  </tbody>\n",
       "</table>\n",
       "</div>"
      ],
      "text/plain": [
       "            City      Lat       Lng  MaxTemp  Humidity  Cloudiness  WindSpeed  \\\n",
       "0      busselton -33.6500  115.3333    57.00      96.0         7.0       5.64   \n",
       "1         castro -24.7911  -50.0119    74.95      51.0         0.0       4.65   \n",
       "9     balikpapan  -1.2675  116.8289    76.77      88.0        95.0       1.77   \n",
       "13     namatanai  -3.6667  152.4333    80.78      81.0       100.0       6.62   \n",
       "14  punta arenas -53.1500  -70.9167    71.60      40.0         0.0      23.02   \n",
       "\n",
       "   Country          Date  \n",
       "0       AU  1.612801e+09  \n",
       "1       BR  1.612801e+09  \n",
       "9       ID  1.612801e+09  \n",
       "13      PG  1.612801e+09  \n",
       "14      CL  1.612801e+09  "
      ]
     },
     "execution_count": 63,
     "metadata": {},
     "output_type": "execute_result"
    }
   ],
   "source": [
    "# Group DataFrame into northern and southern hemispheres\n",
    "northern_hem = weather_df.loc[weather_df['Lat'] > 0]\n",
    "southern_hem = weather_df.loc[weather_df['Lat'] < 0]\n",
    "southern_hem.head()"
   ]
  },
  {
   "cell_type": "code",
   "execution_count": 66,
   "metadata": {},
   "outputs": [
    {
     "name": "stdout",
     "output_type": "stream",
     "text": [
      "The r-value is -0.7914291114599716.\n"
     ]
    },
    {
     "data": {
      "image/png": "[encoded data removed]",
      "text/plain": [
       "<Figure size 432x288 with 1 Axes>"
      ]
     },
     "metadata": {
      "needs_background": "light"
     },
     "output_type": "display_data"
    }
   ],
   "source": [
    "# Latitude vs Max Temp, northern hemisphere\n",
    "\n",
    "# Add the linear regression equation and line to plot\n",
    "x_values = northern_hem['Lat']\n",
    "y_values = northern_hem['MaxTemp']\n",
    "(slope, intercept, rvalue, pvalue, stderr) = linregress(x_values, y_values)\n",
    "regress_values = x_values * slope + intercept\n",
    "line_eq = \"y = \" + str(round(slope,2)) + \"x + \" + str(round(intercept,2))\n",
    "print(f\"The r-value is {rvalue}.\")\n",
    "plt.scatter(x_values,y_values)\n",
    "plt.plot(x_values,regress_values,\"r-\")\n",
    "plt.annotate(line_eq,(6,-10),fontsize=15,color=\"red\")\n",
    "plt.xlabel('Latitude')\n",
    "plt.ylabel('Maximum Temperature (F)')\n",
    "plt.show()"
   ]
  },
  {
   "cell_type": "code",
   "execution_count": 67,
   "metadata": {},
   "outputs": [
    {
     "name": "stdout",
     "output_type": "stream",
     "text": [
      "The r-value is 0.5573532026744576.\n"
     ]
    },
    {
     "data": {
      "image/png": "[encoded data removed]",
      "text/plain": [
       "<Figure size 432x288 with 1 Axes>"
      ]
     },
     "metadata": {
      "needs_background": "light"
     },
     "output_type": "display_data"
    }
   ],
   "source": [
    "# Latitude vs Max Temp, southern hemisphere\n",
    "\n",
    "# Add the linear regression equation and line to plot\n",
    "x_values = southern_hem['Lat']\n",
    "y_values = southern_hem['MaxTemp']\n",
    "(slope, intercept, rvalue, pvalue, stderr) = linregress(x_values, y_values)\n",
    "regress_values = x_values * slope + intercept\n",
    "line_eq = \"y = \" + str(round(slope,2)) + \"x + \" + str(round(intercept,2))\n",
    "print(f\"The r-value is {rvalue}.\")\n",
    "plt.scatter(x_values,y_values)\n",
    "plt.plot(x_values,regress_values,\"r-\")\n",
    "plt.annotate(line_eq,(-30,60),fontsize=15,color=\"red\")\n",
    "plt.xlabel('Latitude')\n",
    "plt.ylabel('Maximum Temperature (F)')\n",
    "plt.show()"
   ]
  },
  {
   "cell_type": "code",
   "execution_count": 68,
   "metadata": {},
   "outputs": [
    {
     "name": "stdout",
     "output_type": "stream",
     "text": [
      "The r-value is -0.1087927424814871.\n"
     ]
    },
    {
     "data": {
      "image/png": "[encoded data removed]",
      "text/plain": [
       "<Figure size 432x288 with 1 Axes>"
      ]
     },
     "metadata": {
      "needs_background": "light"
     },
     "output_type": "display_data"
    }
   ],
   "source": [
    "# Latitude vs. Humidity, northern hemisphere\n",
    "\n",
    "# Add the linear regression equation and line to plot\n",
    "x_values = northern_hem['Lat']\n",
    "y_values = northern_hem['Humidity']\n",
    "(slope, intercept, rvalue, pvalue, stderr) = linregress(x_values, y_values)\n",
    "regress_values = x_values * slope + intercept\n",
    "line_eq = \"y = \" + str(round(slope,2)) + \"x + \" + str(round(intercept,2))\n",
    "print(f\"The r-value is {rvalue}.\")\n",
    "plt.scatter(x_values,y_values)\n",
    "plt.plot(x_values,regress_values,\"r-\")\n",
    "plt.annotate(line_eq,(5,50),fontsize=15,color=\"red\")\n",
    "plt.xlabel('Latitude')\n",
    "plt.ylabel('Humidity (%)')\n",
    "plt.show()"
   ]
  },
  {
   "cell_type": "code",
   "execution_count": 69,
   "metadata": {},
   "outputs": [
    {
     "name": "stdout",
     "output_type": "stream",
     "text": [
      "The r-value is 0.6011771725544187.\n"
     ]
    },
    {
     "data": {
      "image/png": "[encoded data removed]",
      "text/plain": [
       "<Figure size 432x288 with 1 Axes>"
      ]
     },
     "metadata": {
      "needs_background": "light"
     },
     "output_type": "display_data"
    }
   ],
   "source": [
    "# Latitude vs. Humidity, southern hemisphere\n",
    "\n",
    "# Add the linear regression equation and line to plot\n",
    "x_values = southern_hem['Lat']\n",
    "y_values = southern_hem['Humidity']\n",
    "(slope, intercept, rvalue, pvalue, stderr) = linregress(x_values, y_values)\n",
    "regress_values = x_values * slope + intercept\n",
    "line_eq = \"y = \" + str(round(slope,2)) + \"x + \" + str(round(intercept,2))\n",
    "print(f\"The r-value is {rvalue}.\")\n",
    "plt.scatter(x_values,y_values)\n",
    "plt.plot(x_values,regress_values,\"r-\")\n",
    "plt.annotate(line_eq,(-30,40),fontsize=15,color=\"red\")\n",
    "plt.xlabel('Latitude')\n",
    "plt.ylabel('Humidity (%)')\n",
    "plt.show()"
   ]
  },
  {
   "cell_type": "code",
   "execution_count": 70,
   "metadata": {},
   "outputs": [
    {
     "name": "stdout",
     "output_type": "stream",
     "text": [
      "The r-value is -0.48651824111768943.\n"
     ]
    },
    {
     "data": {
      "image/png": "[encoded data removed]",
      "text/plain": [
       "<Figure size 432x288 with 1 Axes>"
      ]
     },
     "metadata": {
      "needs_background": "light"
     },
     "output_type": "display_data"
    }
   ],
   "source": [
    "# Latitude vs. Cloudiness, northern hemishphere\n",
    "\n",
    "# Add the linear regression equation and line to plot\n",
    "x_values = northern_hem['Lat']\n",
    "y_values = northern_hem['Cloudiness']\n",
    "(slope, intercept, rvalue, pvalue, stderr) = linregress(x_values, y_values)\n",
    "regress_values = x_values * slope + intercept\n",
    "line_eq = \"y = \" + str(round(slope,2)) + \"x + \" + str(round(intercept,2))\n",
    "print(f\"The r-value is {rvalue}.\")\n",
    "plt.scatter(x_values,y_values)\n",
    "plt.plot(x_values,regress_values,\"r-\")\n",
    "plt.annotate(line_eq,(10,20),fontsize=15,color=\"red\")\n",
    "plt.xlabel('Latitude')\n",
    "plt.ylabel('Cloudiness')\n",
    "plt.show()"
   ]
  },
  {
   "cell_type": "code",
   "execution_count": 71,
   "metadata": {},
   "outputs": [
    {
     "name": "stdout",
     "output_type": "stream",
     "text": [
      "The r-value is 0.8818270159914531.\n"
     ]
    },
    {
     "data": {
      "image/png": "[encoded data removed]",
      "text/plain": [
       "<Figure size 432x288 with 1 Axes>"
      ]
     },
     "metadata": {
      "needs_background": "light"
     },
     "output_type": "display_data"
    }
   ],
   "source": [
    "# Latitude vs. Cloudiness, southern hemisphere\n",
    "\n",
    "# Add the linear regression equation and line to plot\n",
    "x_values = southern_hem['Lat']\n",
    "y_values = southern_hem['Cloudiness']\n",
    "(slope, intercept, rvalue, pvalue, stderr) = linregress(x_values, y_values)\n",
    "regress_values = x_values * slope + intercept\n",
    "line_eq = \"y = \" + str(round(slope,2)) + \"x + \" + str(round(intercept,2))\n",
    "print(f\"The r-value is {rvalue}.\")\n",
    "plt.scatter(x_values,y_values)\n",
    "plt.plot(x_values,regress_values,\"r-\")\n",
    "plt.annotate(line_eq,(-50,70),fontsize=15,color=\"red\")\n",
    "plt.xlabel('Latitude')\n",
    "plt.ylabel('Cloudiness')\n",
    "plt.show()"
   ]
  },
  {
   "cell_type": "code",
   "execution_count": 72,
   "metadata": {},
   "outputs": [
    {
     "name": "stdout",
     "output_type": "stream",
     "text": [
      "The r-value is -0.25207339832190223.\n"
     ]
    },
    {
     "data": {
      "image/png": "[encoded data removed]",
      "text/plain": [
       "<Figure size 432x288 with 1 Axes>"
      ]
     },
     "metadata": {
      "needs_background": "light"
     },
     "output_type": "display_data"
    }
   ],
   "source": [
    "# Latitude vs. Wind Speed, northern hemisphere\n",
    "\n",
    "# Add the linear regression equation and line to plot\n",
    "x_values = northern_hem['Lat']\n",
    "y_values = northern_hem['WindSpeed']\n",
    "(slope, intercept, rvalue, pvalue, stderr) = linregress(x_values, y_values)\n",
    "regress_values = x_values * slope + intercept\n",
    "line_eq = \"y = \" + str(round(slope,2)) + \"x + \" + str(round(intercept,2))\n",
    "print(f\"The r-value is {rvalue}.\")\n",
    "plt.scatter(x_values,y_values)\n",
    "plt.plot(x_values,regress_values,\"r-\")\n",
    "plt.annotate(line_eq,(10,16),fontsize=15,color=\"red\")\n",
    "plt.xlabel('Latitude')\n",
    "plt.ylabel('Wind Speed (mph)')\n",
    "plt.show()"
   ]
  },
  {
   "cell_type": "code",
   "execution_count": 73,
   "metadata": {},
   "outputs": [
    {
     "name": "stdout",
     "output_type": "stream",
     "text": [
      "The r-value is -0.8021783665992613.\n"
     ]
    },
    {
     "data": {
      "image/png": "[encoded data removed]",
      "text/plain": [
       "<Figure size 432x288 with 1 Axes>"
      ]
     },
     "metadata": {
      "needs_background": "light"
     },
     "output_type": "display_data"
    }
   ],
   "source": [
    "# Latitude vs. Wind Speed, southern hemisphere\n",
    "\n",
    "# Add the linear regression equation and line to plot\n",
    "x_values = southern_hem['Lat']\n",
    "y_values = southern_hem['WindSpeed']\n",
    "(slope, intercept, rvalue, pvalue, stderr) = linregress(x_values, y_values)\n",
    "regress_values = x_values * slope + intercept\n",
    "line_eq = \"y = \" + str(round(slope,2)) + \"x + \" + str(round(intercept,2))\n",
    "print(f\"The r-value is {rvalue}.\")\n",
    "plt.scatter(x_values,y_values)\n",
    "plt.plot(x_values,regress_values,\"r-\")\n",
    "plt.annotate(line_eq,(-30,20),fontsize=15,color=\"red\")\n",
    "plt.xlabel('Latitude')\n",
    "plt.ylabel('Wind Speed (mph)')\n",
    "plt.show()"
   ]
  },
  {
   "cell_type": "code",
   "execution_count": null,
   "metadata": {},
   "outputs": [],
   "source": []
  }
 ],
 "metadata": {
  "kernelspec": {
   "display_name": "Python 3",
   "language": "python",
   "name": "python3"
  },
  "language_info": {
   "codemirror_mode": {
    "name": "ipython",
    "version": 3
   },
   "file_extension": ".py",
   "mimetype": "text/x-python",
   "name": "python",
   "nbconvert_exporter": "python",
   "pygments_lexer": "ipython3",
   "version": "3.6.10"
  }
 },
 "nbformat": 4,
 "nbformat_minor": 4
}
