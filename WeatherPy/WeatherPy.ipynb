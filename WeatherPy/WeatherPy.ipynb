{
 "cells": [
  {
   "cell_type": "code",
   "execution_count": null,
   "metadata": {},
   "outputs": [],
   "source": [
    "# Dependencies and Setup\n",
    "import matplotlib.pyplot as plt\n",
    "import pandas as pd\n",
    "import numpy as np\n",
    "import requests\n",
    "import time\n",
    "from scipy.stats import linregress\n",
    "\n",
    "# Import API key\n",
    "from config import weather_api_key\n",
    "\n",
    "# Incorporated citipy to determine city based on latitude and longitude\n",
    "from citipy import citipy\n",
    "\n",
    "# Output File (CSV)\n",
    "output_data_file = \"../output_data/cities.csv\"\n",
    "\n",
    "# Range of latitudes and longitudes\n",
    "lat_range = (-90, 90)\n",
    "lng_range = (-180, 180)"
   ]
  },
  {
   "cell_type": "code",
   "execution_count": null,
   "metadata": {},
   "outputs": [],
   "source": [
    "# List for holding lat_lngs and cities\n",
    "lat_lngs = []\n",
    "cities = []\n",
    "\n",
    "# Create a set of random lat and lng combinations\n",
    "lats = np.random.uniform(lat_range[0], lat_range[1], size=15) #size=1500\n",
    "lngs = np.random.uniform(lng_range[0], lng_range[1], size=15) #size=1500\n",
    "lat_lngs = zip(lats, lngs)\n",
    "\n",
    "# Identify nearest city for each lat, lng combination\n",
    "for lat_lng in lat_lngs:\n",
    "    city = citipy.nearest_city(lat_lng[0], lat_lng[1]).city_name\n",
    "    \n",
    "    # If the city is unique, then add it to a our cities list\n",
    "    if city not in cities:\n",
    "        cities.append(city)\n",
    "\n",
    "# Print the city count to confirm sufficient count\n",
    "print(len(cities))"
   ]
  },
  {
   "cell_type": "code",
   "execution_count": null,
   "metadata": {},
   "outputs": [],
   "source": [
    "#create data frame and add empty columns\n",
    "weather_df = pd.DataFrame({'City':cities})\n",
    "weather_df['Lat'] = \"\"\n",
    "weather_df['Lng'] = \"\"\n",
    "weather_df['MaxTemp'] = \"\"\n",
    "weather_df['Humidity'] = \"\"\n",
    "weather_df['Cloudiness'] = \"\"\n",
    "weather_df['WindSpeed'] = \"\"\n",
    "weather_df['Country'] = \"\"\n",
    "weather_df['Date'] = \"\"\n"
   ]
  },
  {
   "cell_type": "code",
   "execution_count": null,
   "metadata": {},
   "outputs": [],
   "source": [
    "# Set units to imperial\n",
    "units = 'imperial'\n",
    "\n",
    "# Iterate over the rows in the df and fill the columns\n",
    "print(\"Beginning data retrieval\")\n",
    "print(\"-------------------------\")\n",
    "for index, row in weather_df.iterrows():\n",
    "    base_url = \"https://api.openweathermap.org/data/2.5/weather?\" \n",
    "\n",
    "    city = row['City']\n",
    "    \n",
    "    target_url = f\"{base_url}q={city}&appid={weather_api_key}&units={units}\"\n",
    "    \n",
    "    response = requests.get(target_url).json() \n",
    "\n",
    "    time.sleep(1)\n",
    "    \n",
    "    try:\n",
    "        print(f\"Processing record {index}|{city}\")\n",
    "        \n",
    "        weather_df.loc[index,'Lat'] = response['coord']['lat']\n",
    "        weather_df.loc[index,'Lng'] = response['coord']['lon']\n",
    "        weather_df.loc[index,'MaxTemp'] = response['main']['temp_max']\n",
    "        weather_df.loc[index,'Humidity'] = response['main']['humidity']\n",
    "        weather_df.loc[index,'Cloudiness'] = response['clouds']['all']\n",
    "        weather_df.loc[index,'WindSpeed'] = response['wind']['speed']\n",
    "        weather_df.loc[index,'Country'] = response['sys']['country']\n",
    "        weather_df.loc[index,'Date'] = response['dt']\n",
    "        \n",
    "    except:\n",
    "        #weather_df.loc[index,'City'] = \"\"\n",
    "        print(f\"{city} not found. Skipping...\")\n",
    "        \n"
   ]
  },
  {
   "cell_type": "code",
   "execution_count": null,
   "metadata": {},
   "outputs": [],
   "source": [
    "# Replace empty column spaces with NaNs\n",
    "weather_df.replace('', np.nan, inplace=True)"
   ]
  },
  {
   "cell_type": "code",
   "execution_count": null,
   "metadata": {},
   "outputs": [],
   "source": [
    "# Drop rows with NaNs\n",
    "weather_df = weather_df.dropna()"
   ]
  },
  {
   "cell_type": "code",
   "execution_count": null,
   "metadata": {},
   "outputs": [],
   "source": [
    "# Save DataFrame to csv file\n",
    "weather_df.to_csv(output_data_file)\n",
    "\n",
    "# Display DataFrame\n",
    "weather_df.head()"
   ]
  },
  {
   "cell_type": "code",
   "execution_count": null,
   "metadata": {},
   "outputs": [],
   "source": [
    "# Convert to floats\n",
    "weather_df.loc[:,\"Lat\"] = weather_df[\"Lat\"].astype('float')\n",
    "weather_df.loc[:,\"Lng\"] = weather_df[\"Lng\"].astype('float')\n",
    "weather_df.loc[:,\"MaxTemp\"] = weather_df[\"MaxTemp\"].astype('float')\n",
    "weather_df.loc[:,\"Humidity\"] = weather_df[\"Humidity\"].astype('float')\n",
    "weather_df.loc[:,\"Cloudiness\"] = weather_df[\"Cloudiness\"].astype('float')\n",
    "weather_df.loc[:,\"WindSpeed\"] = weather_df[\"WindSpeed\"].astype('float')\n",
    "weather_df.loc[:,\"Date\"] = weather_df[\"Date\"].astype('float')\n"
   ]
  },
  {
   "cell_type": "code",
   "execution_count": null,
   "metadata": {},
   "outputs": [],
   "source": [
    "# Remove cities where humidity is more than 100%\n",
    "weather_df = weather_df.loc[weather_df['Humidity'] <= 100]"
   ]
  },
  {
   "cell_type": "code",
   "execution_count": null,
   "metadata": {},
   "outputs": [],
   "source": [
    "summary_stats = weather_df[['Lat','Lng','MaxTemp','Humidity','Cloudiness','WindSpeed','Date']]\n",
    "summary_stats.describe(include='all')"
   ]
  },
  {
   "cell_type": "code",
   "execution_count": null,
   "metadata": {},
   "outputs": [],
   "source": [
    "# Latitude vs Max Temp \n",
    "plt.scatter(weather_df['Lat'], weather_df['MaxTemp'])\n",
    "plt.xlabel('Latitude')\n",
    "plt.ylabel('Maximum Temperature (F)')\n",
    "plt.title('City Latitude vs. Maximum Temperature')\n",
    "plt.savefig('../output_data/fig1.png')\n",
    "plt.show()"
   ]
  },
  {
   "cell_type": "code",
   "execution_count": null,
   "metadata": {},
   "outputs": [],
   "source": []
  },
  {
   "cell_type": "code",
   "execution_count": null,
   "metadata": {},
   "outputs": [],
   "source": [
    "# Latitude vs. Humidity\n",
    "plt.scatter(weather_df['Lat'], weather_df['Humidity'])\n",
    "plt.xlabel('Latitude')\n",
    "plt.ylabel('Humidity (%)')\n",
    "plt.title('City Latitude vs. Humidity')\n",
    "plt.savefig('../output_data/fig2.png')\n",
    "plt.show()"
   ]
  },
  {
   "cell_type": "code",
   "execution_count": null,
   "metadata": {},
   "outputs": [],
   "source": []
  },
  {
   "cell_type": "code",
   "execution_count": null,
   "metadata": {},
   "outputs": [],
   "source": [
    "# Latitude vs. Cloudiness\n",
    "plt.scatter(weather_df['Lat'], weather_df['Cloudiness'])\n",
    "plt.xlabel('Latitude')\n",
    "plt.ylabel('Cloudiness (%)')\n",
    "plt.title('City Latitude vs. Cloudiness')\n",
    "plt.savefig('../output_data/fig3.png')\n",
    "plt.show()"
   ]
  },
  {
   "cell_type": "code",
   "execution_count": null,
   "metadata": {},
   "outputs": [],
   "source": []
  },
  {
   "cell_type": "code",
   "execution_count": null,
   "metadata": {},
   "outputs": [],
   "source": [
    "# Latitude vs. Wind Speed\n",
    "plt.scatter(weather_df['Lat'], weather_df['WindSpeed'])\n",
    "plt.xlabel('Latitude')\n",
    "plt.ylabel('Wind Speed (mph)')\n",
    "plt.title('City Latitude vs. Wind Speed')\n",
    "plt.savefig('../output_data/fig4.png')\n",
    "plt.show()"
   ]
  },
  {
   "cell_type": "code",
   "execution_count": null,
   "metadata": {},
   "outputs": [],
   "source": []
  },
  {
   "cell_type": "code",
   "execution_count": null,
   "metadata": {},
   "outputs": [],
   "source": [
    "# Group DataFrame into northern and southern hemispheres\n",
    "northern_hem = weather_df.loc[weather_df['Lat'] > 0]\n",
    "southern_hem = weather_df.loc[weather_df['Lat'] < 0]\n",
    "southern_hem.head()"
   ]
  },
  {
   "cell_type": "code",
   "execution_count": null,
   "metadata": {},
   "outputs": [],
   "source": [
    "# Latitude vs Max Temp, northern hemisphere\n",
    "\n",
    "# Add the linear regression equation and line to plot\n",
    "x_values = northern_hem['Lat']\n",
    "y_values = northern_hem['MaxTemp']\n",
    "(slope, intercept, rvalue, pvalue, stderr) = linregress(x_values, y_values)\n",
    "regress_values = x_values * slope + intercept\n",
    "line_eq = \"y = \" + str(round(slope,2)) + \"x + \" + str(round(intercept,2))\n",
    "print(f\"The r-value is {rvalue}.\")\n",
    "plt.scatter(x_values,y_values)\n",
    "plt.plot(x_values,regress_values,\"r-\")\n",
    "plt.annotate(line_eq,(6,-10),fontsize=15,color=\"red\")\n",
    "plt.xlabel('Latitude')\n",
    "plt.ylabel('Maximum Temperature (F)')\n",
    "plt.show()"
   ]
  },
  {
   "cell_type": "code",
   "execution_count": null,
   "metadata": {},
   "outputs": [],
   "source": [
    "# Latitude vs Max Temp, southern hemisphere\n",
    "\n",
    "# Add the linear regression equation and line to plot\n",
    "x_values = southern_hem['Lat']\n",
    "y_values = southern_hem['MaxTemp']\n",
    "(slope, intercept, rvalue, pvalue, stderr) = linregress(x_values, y_values)\n",
    "regress_values = x_values * slope + intercept\n",
    "line_eq = \"y = \" + str(round(slope,2)) + \"x + \" + str(round(intercept,2))\n",
    "print(f\"The r-value is {rvalue}.\")\n",
    "plt.scatter(x_values,y_values)\n",
    "plt.plot(x_values,regress_values,\"r-\")\n",
    "plt.annotate(line_eq,(-30,60),fontsize=15,color=\"red\")\n",
    "plt.xlabel('Latitude')\n",
    "plt.ylabel('Maximum Temperature (F)')\n",
    "plt.show()"
   ]
  },
  {
   "cell_type": "code",
   "execution_count": null,
   "metadata": {},
   "outputs": [],
   "source": []
  },
  {
   "cell_type": "code",
   "execution_count": null,
   "metadata": {},
   "outputs": [],
   "source": [
    "# Latitude vs. Humidity, northern hemisphere\n",
    "\n",
    "# Add the linear regression equation and line to plot\n",
    "x_values = northern_hem['Lat']\n",
    "y_values = northern_hem['Humidity']\n",
    "(slope, intercept, rvalue, pvalue, stderr) = linregress(x_values, y_values)\n",
    "regress_values = x_values * slope + intercept\n",
    "line_eq = \"y = \" + str(round(slope,2)) + \"x + \" + str(round(intercept,2))\n",
    "print(f\"The r-value is {rvalue}.\")\n",
    "plt.scatter(x_values,y_values)\n",
    "plt.plot(x_values,regress_values,\"r-\")\n",
    "plt.annotate(line_eq,(5,50),fontsize=15,color=\"red\")\n",
    "plt.xlabel('Latitude')\n",
    "plt.ylabel('Humidity (%)')\n",
    "plt.show()"
   ]
  },
  {
   "cell_type": "code",
   "execution_count": null,
   "metadata": {},
   "outputs": [],
   "source": [
    "# Latitude vs. Humidity, southern hemisphere\n",
    "\n",
    "# Add the linear regression equation and line to plot\n",
    "x_values = southern_hem['Lat']\n",
    "y_values = southern_hem['Humidity']\n",
    "(slope, intercept, rvalue, pvalue, stderr) = linregress(x_values, y_values)\n",
    "regress_values = x_values * slope + intercept\n",
    "line_eq = \"y = \" + str(round(slope,2)) + \"x + \" + str(round(intercept,2))\n",
    "print(f\"The r-value is {rvalue}.\")\n",
    "plt.scatter(x_values,y_values)\n",
    "plt.plot(x_values,regress_values,\"r-\")\n",
    "plt.annotate(line_eq,(-30,40),fontsize=15,color=\"red\")\n",
    "plt.xlabel('Latitude')\n",
    "plt.ylabel('Humidity (%)')\n",
    "plt.show()"
   ]
  },
  {
   "cell_type": "code",
   "execution_count": null,
   "metadata": {},
   "outputs": [],
   "source": []
  },
  {
   "cell_type": "code",
   "execution_count": null,
   "metadata": {},
   "outputs": [],
   "source": [
    "# Latitude vs. Cloudiness, northern hemishphere\n",
    "\n",
    "# Add the linear regression equation and line to plot\n",
    "x_values = northern_hem['Lat']\n",
    "y_values = northern_hem['Cloudiness']\n",
    "(slope, intercept, rvalue, pvalue, stderr) = linregress(x_values, y_values)\n",
    "regress_values = x_values * slope + intercept\n",
    "line_eq = \"y = \" + str(round(slope,2)) + \"x + \" + str(round(intercept,2))\n",
    "print(f\"The r-value is {rvalue}.\")\n",
    "plt.scatter(x_values,y_values)\n",
    "plt.plot(x_values,regress_values,\"r-\")\n",
    "plt.annotate(line_eq,(10,20),fontsize=15,color=\"red\")\n",
    "plt.xlabel('Latitude')\n",
    "plt.ylabel('Cloudiness (%)')\n",
    "plt.show()"
   ]
  },
  {
   "cell_type": "code",
   "execution_count": null,
   "metadata": {},
   "outputs": [],
   "source": [
    "# Latitude vs. Cloudiness, southern hemisphere\n",
    "\n",
    "# Add the linear regression equation and line to plot\n",
    "x_values = southern_hem['Lat']\n",
    "y_values = southern_hem['Cloudiness']\n",
    "(slope, intercept, rvalue, pvalue, stderr) = linregress(x_values, y_values)\n",
    "regress_values = x_values * slope + intercept\n",
    "line_eq = \"y = \" + str(round(slope,2)) + \"x + \" + str(round(intercept,2))\n",
    "print(f\"The r-value is {rvalue}.\")\n",
    "plt.scatter(x_values,y_values)\n",
    "plt.plot(x_values,regress_values,\"r-\")\n",
    "plt.annotate(line_eq,(-50,70),fontsize=15,color=\"red\")\n",
    "plt.xlabel('Latitude')\n",
    "plt.ylabel('Cloudiness (%)')\n",
    "plt.show()"
   ]
  },
  {
   "cell_type": "code",
   "execution_count": null,
   "metadata": {},
   "outputs": [],
   "source": []
  },
  {
   "cell_type": "code",
   "execution_count": null,
   "metadata": {},
   "outputs": [],
   "source": [
    "# Latitude vs. Wind Speed, northern hemisphere\n",
    "\n",
    "# Add the linear regression equation and line to plot\n",
    "x_values = northern_hem['Lat']\n",
    "y_values = northern_hem['WindSpeed']\n",
    "(slope, intercept, rvalue, pvalue, stderr) = linregress(x_values, y_values)\n",
    "regress_values = x_values * slope + intercept\n",
    "line_eq = \"y = \" + str(round(slope,2)) + \"x + \" + str(round(intercept,2))\n",
    "print(f\"The r-value is {rvalue}.\")\n",
    "plt.scatter(x_values,y_values)\n",
    "plt.plot(x_values,regress_values,\"r-\")\n",
    "plt.annotate(line_eq,(10,16),fontsize=15,color=\"red\")\n",
    "plt.xlabel('Latitude')\n",
    "plt.ylabel('Wind Speed (mph)')\n",
    "plt.show()"
   ]
  },
  {
   "cell_type": "code",
   "execution_count": null,
   "metadata": {},
   "outputs": [],
   "source": [
    "# Latitude vs. Wind Speed, southern hemisphere\n",
    "\n",
    "# Add the linear regression equation and line to plot\n",
    "x_values = southern_hem['Lat']\n",
    "y_values = southern_hem['WindSpeed']\n",
    "(slope, intercept, rvalue, pvalue, stderr) = linregress(x_values, y_values)\n",
    "regress_values = x_values * slope + intercept\n",
    "line_eq = \"y = \" + str(round(slope,2)) + \"x + \" + str(round(intercept,2))\n",
    "print(f\"The r-value is {rvalue}.\")\n",
    "plt.scatter(x_values,y_values)\n",
    "plt.plot(x_values,regress_values,\"r-\")\n",
    "plt.annotate(line_eq,(-30,20),fontsize=15,color=\"red\")\n",
    "plt.xlabel('Latitude')\n",
    "plt.ylabel('Wind Speed (mph)')\n",
    "plt.show()"
   ]
  },
  {
   "cell_type": "code",
   "execution_count": null,
   "metadata": {},
   "outputs": [],
   "source": []
  },
  {
   "cell_type": "code",
   "execution_count": null,
   "metadata": {},
   "outputs": [],
   "source": []
  }
 ],
 "metadata": {
  "kernelspec": {
   "display_name": "Python 3",
   "language": "python",
   "name": "python3"
  },
  "language_info": {
   "codemirror_mode": {
    "name": "ipython",
    "version": 3
   },
   "file_extension": ".py",
   "mimetype": "text/x-python",
   "name": "python",
   "nbconvert_exporter": "python",
   "pygments_lexer": "ipython3",
   "version": "3.6.10"
  }
 },
 "nbformat": 4,
 "nbformat_minor": 4
}
